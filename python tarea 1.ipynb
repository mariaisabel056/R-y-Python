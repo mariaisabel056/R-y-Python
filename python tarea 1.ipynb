{
 "cells": [
  {
   "cell_type": "code",
   "execution_count": 4,
   "id": "b8b14cc4",
   "metadata": {},
   "outputs": [],
   "source": [
    "a = 'cobre'\n",
    "b = 'cafe'"
   ]
  },
  {
   "cell_type": "code",
   "execution_count": 6,
   "id": "f65dcdc0",
   "metadata": {},
   "outputs": [
    {
     "name": "stdout",
     "output_type": "stream",
     "text": [
      "cobre\n"
     ]
    }
   ],
   "source": [
    "print (a)"
   ]
  },
  {
   "cell_type": "code",
   "execution_count": 8,
   "id": "751b80f4",
   "metadata": {},
   "outputs": [
    {
     "name": "stdout",
     "output_type": "stream",
     "text": [
      "cafe\n"
     ]
    }
   ],
   "source": [
    "print (b)"
   ]
  },
  {
   "cell_type": "code",
   "execution_count": 11,
   "id": "9a0aae54",
   "metadata": {},
   "outputs": [],
   "source": [
    "x = 'Los productos tradicionales mas exportados son '"
   ]
  },
  {
   "cell_type": "code",
   "execution_count": 13,
   "id": "78157388",
   "metadata": {},
   "outputs": [
    {
     "name": "stdout",
     "output_type": "stream",
     "text": [
      "Los productos tradicionales mas exportados son: \n"
     ]
    }
   ],
   "source": [
    "print (x)"
   ]
  },
  {
   "cell_type": "code",
   "execution_count": 38,
   "id": "217f9fd1",
   "metadata": {},
   "outputs": [
    {
     "name": "stdout",
     "output_type": "stream",
     "text": [
      "Los productos tradicionales con mayor volumen de exportación fueron: cobre y cafe cobre y cafe\n"
     ]
    }
   ],
   "source": [
    "print(f'{x} {a} y {b}')"
   ]
  },
  {
   "cell_type": "code",
   "execution_count": 27,
   "id": "017dffcc",
   "metadata": {},
   "outputs": [],
   "source": [
    "d = 'Huancayo'\n",
    "e = 'Lima'\n",
    "f = 'Tacna'"
   ]
  },
  {
   "cell_type": "code",
   "execution_count": 35,
   "id": "3701f0f0",
   "metadata": {},
   "outputs": [
    {
     "name": "stdout",
     "output_type": "stream",
     "text": [
      "El paro de transportistas han generado revueltas en:\n"
     ]
    }
   ],
   "source": [
    "y = 'El paro de transportistas han generado revueltas en'\n",
    "print (y)"
   ]
  },
  {
   "cell_type": "code",
   "execution_count": 39,
   "id": "7d90eac9",
   "metadata": {},
   "outputs": [
    {
     "name": "stdout",
     "output_type": "stream",
     "text": [
      "El paro de transportistas han generado revueltas en: Huancayo, Junin y Tacna\n"
     ]
    }
   ],
   "source": [
    "print(f'{y} {d}, {e} y {f}')"
   ]
  },
  {
   "cell_type": "code",
   "execution_count": 83,
   "id": "19ca5e1a",
   "metadata": {},
   "outputs": [
    {
     "name": "stdout",
     "output_type": "stream",
     "text": [
      "['San Miguel', 'Jesus Maria', 'Lince']\n"
     ]
    }
   ],
   "source": [
    "L1 = ['San Miguel', 'Jesus Maria', 'Lince']\n",
    "print (L1)"
   ]
  },
  {
   "cell_type": "code",
   "execution_count": 84,
   "id": "89c74cde",
   "metadata": {},
   "outputs": [
    {
     "name": "stdout",
     "output_type": "stream",
     "text": [
      "['San Miguel', 'Jesus Maria', 'Lince', 'La Perla']\n"
     ]
    }
   ],
   "source": [
    "L1.append ('La Perla')\n",
    "print (L1)"
   ]
  },
  {
   "cell_type": "code",
   "execution_count": 85,
   "id": "46f7f5c4",
   "metadata": {},
   "outputs": [
    {
     "name": "stdout",
     "output_type": "stream",
     "text": [
      "['San Miguel', 'Jesus Maria', 'Lince', 'La Perla', 'Bellavista']\n"
     ]
    }
   ],
   "source": [
    "L1.append ('Bellavista')\n",
    "print (L1)"
   ]
  },
  {
   "cell_type": "code",
   "execution_count": 91,
   "id": "c06841c2",
   "metadata": {},
   "outputs": [
    {
     "data": {
      "text/plain": [
       "'San Miguel'"
      ]
     },
     "execution_count": 91,
     "metadata": {},
     "output_type": "execute_result"
    }
   ],
   "source": [
    "L1[0]"
   ]
  },
  {
   "cell_type": "code",
   "execution_count": 93,
   "id": "a120c8a8",
   "metadata": {},
   "outputs": [
    {
     "data": {
      "text/plain": [
       "'Bellavista'"
      ]
     },
     "execution_count": 93,
     "metadata": {},
     "output_type": "execute_result"
    }
   ],
   "source": [
    "L1[4]"
   ]
  },
  {
   "cell_type": "code",
   "execution_count": 137,
   "id": "65b88405",
   "metadata": {},
   "outputs": [],
   "source": [
    "Distritos_pob = {'San Miguel': {'Poblacion':173309, 'Pobreza': 2.2}, \n",
    "                 'Jesus Maria':{'Poblacion':81743, 'Pobreza': 0.8}, \n",
    "                 'Lince': {'Poblacion':59578, 'Pobreza': 2.2}, \n",
    "                 'La Perla': {'Poblacion':64454, 'Pobreza':4.1}, \n",
    "                 'Bellavista': {'Poblacion':80704, 'Pobreza': 6.2}}\n"
   ]
  },
  {
   "cell_type": "code",
   "execution_count": 125,
   "id": "8ad45479",
   "metadata": {},
   "outputs": [
    {
     "data": {
      "text/plain": [
       "81743"
      ]
     },
     "execution_count": 125,
     "metadata": {},
     "output_type": "execute_result"
    }
   ],
   "source": [
    "Distritos_pob.get('Jesus Maria').get('Poblacion')"
   ]
  },
  {
   "cell_type": "code",
   "execution_count": 126,
   "id": "b961d284",
   "metadata": {},
   "outputs": [
    {
     "data": {
      "text/plain": [
       "0.8"
      ]
     },
     "execution_count": 126,
     "metadata": {},
     "output_type": "execute_result"
    }
   ],
   "source": [
    "Distritos_pob.get('Jesus Maria').get('Pobreza')"
   ]
  },
  {
   "cell_type": "code",
   "execution_count": 131,
   "id": "a366eb98",
   "metadata": {},
   "outputs": [
    {
     "data": {
      "text/plain": [
       "64454"
      ]
     },
     "execution_count": 131,
     "metadata": {},
     "output_type": "execute_result"
    }
   ],
   "source": [
    "Distritos_pob.get('La Perla').get('Poblacion')"
   ]
  },
  {
   "cell_type": "code",
   "execution_count": 133,
   "id": "1f8c62a3",
   "metadata": {},
   "outputs": [
    {
     "data": {
      "text/plain": [
       "4.1"
      ]
     },
     "execution_count": 133,
     "metadata": {},
     "output_type": "execute_result"
    }
   ],
   "source": [
    "Distritos_pob.get('La Perla').get('Pobreza')"
   ]
  },
  {
   "cell_type": "code",
   "execution_count": 135,
   "id": "7c7b14f1",
   "metadata": {},
   "outputs": [
    {
     "data": {
      "text/plain": [
       "59578"
      ]
     },
     "execution_count": 135,
     "metadata": {},
     "output_type": "execute_result"
    }
   ],
   "source": [
    "Distritos_pob.get('Lince').get('Poblacion')"
   ]
  },
  {
   "cell_type": "code",
   "execution_count": 138,
   "id": "0a2a1d51",
   "metadata": {},
   "outputs": [
    {
     "data": {
      "text/plain": [
       "2.2"
      ]
     },
     "execution_count": 138,
     "metadata": {},
     "output_type": "execute_result"
    }
   ],
   "source": [
    "Distritos_pob.get('Lince').get('Pobreza')"
   ]
  },
  {
   "cell_type": "code",
   "execution_count": 4,
   "id": "abf33f90",
   "metadata": {},
   "outputs": [],
   "source": [
    "import numpy as np"
   ]
  },
  {
   "cell_type": "code",
   "execution_count": 146,
   "id": "95a60468",
   "metadata": {},
   "outputs": [
    {
     "name": "stdout",
     "output_type": "stream",
     "text": [
      "[[0 1 2]\n",
      " [5 6 7]]\n"
     ]
    }
   ],
   "source": [
    "m=np.array([[0,1,2],[5,6,7]])\n",
    "print(m)"
   ]
  },
  {
   "cell_type": "code",
   "execution_count": 150,
   "id": "a74797d6",
   "metadata": {},
   "outputs": [
    {
     "name": "stdout",
     "output_type": "stream",
     "text": [
      "[[ 5  1  7]\n",
      " [ 8  9 10]]\n"
     ]
    }
   ],
   "source": [
    "n=np.array([[5,1,7],[8,9,10]])\n",
    "print(n)"
   ]
  },
  {
   "cell_type": "code",
   "execution_count": 154,
   "id": "ab282f72",
   "metadata": {},
   "outputs": [
    {
     "name": "stdout",
     "output_type": "stream",
     "text": [
      "[[ 0  1  2]\n",
      " [ 5  6  7]\n",
      " [ 5  1  7]\n",
      " [ 8  9 10]]\n"
     ]
    }
   ],
   "source": [
    "con1 = np.concatenate((m,n), axis = 0)\n",
    "print (con1)"
   ]
  },
  {
   "cell_type": "code",
   "execution_count": 156,
   "id": "6e107336",
   "metadata": {},
   "outputs": [
    {
     "name": "stdout",
     "output_type": "stream",
     "text": [
      "[[ 0  1  2  5  1  7]\n",
      " [ 5  6  7  8  9 10]]\n"
     ]
    }
   ],
   "source": [
    "con2 = np.concatenate((m,n), axis = 1)\n",
    "print (con2)"
   ]
  },
  {
   "cell_type": "code",
   "execution_count": 158,
   "id": "f2f4afb8",
   "metadata": {},
   "outputs": [
    {
     "name": "stdout",
     "output_type": "stream",
     "text": [
      "[[ 0  1  2  3  4  5  6  7]\n",
      " [ 8  9 10 11 12 13 14 15]\n",
      " [16 17 18 19 20 21 22 23]\n",
      " [24 25 26 27 28 29 30 31]]\n"
     ]
    }
   ],
   "source": [
    "mat=np.array([[0,1,2,3,4,5,6,7],[8,9,10,11,12,13,14,15],[16,17,18,19,20,21,22,23],[24,25,26,27,28,29,30,31]])\n",
    "print(mat)"
   ]
  },
  {
   "cell_type": "code",
   "execution_count": 166,
   "id": "d1ddb550",
   "metadata": {},
   "outputs": [
    {
     "data": {
      "text/plain": [
       "array([[ 6,  7],\n",
       "       [14, 15],\n",
       "       [22, 23],\n",
       "       [30, 31]])"
      ]
     },
     "execution_count": 166,
     "metadata": {},
     "output_type": "execute_result"
    }
   ],
   "source": [
    "mat[:,6:8] #2 ultimas columna"
   ]
  },
  {
   "cell_type": "code",
   "execution_count": 167,
   "id": "23547f04",
   "metadata": {},
   "outputs": [
    {
     "data": {
      "text/plain": [
       "array([[ 0,  1,  2,  3,  4,  5,  6,  7],\n",
       "       [ 8,  9, 10, 11, 12, 13, 14, 15],\n",
       "       [16, 17, 18, 19, 20, 21, 22, 23]])"
      ]
     },
     "execution_count": 167,
     "metadata": {},
     "output_type": "execute_result"
    }
   ],
   "source": [
    "mat[0:3,:] #3 primeras filas"
   ]
  },
  {
   "cell_type": "code",
   "execution_count": 81,
   "id": "28ed3cc4",
   "metadata": {},
   "outputs": [],
   "source": [
    "import random \n",
    "\n",
    "random.seed(20)\n",
    "x1 = np.random.rand(15) # uniform distribution  [0,1]\n",
    "x2 = np.random.rand(15) # uniform distribution [0,1]\n",
    "x3 = np.random.rand(15) # uniform distribution [0,1]\n",
    "e = np.random.normal(0,1,15) # normal distribution mean = 0 and sd = 1\n",
    "# Poblacional regression (Data Generating Process GDP)\n",
    "\n",
    "\n",
    "Y = 12 + 3*x1 + 5*x2 + 1*x3 + e"
   ]
  },
  {
   "cell_type": "code",
   "execution_count": 82,
   "id": "f2c817d2",
   "metadata": {},
   "outputs": [
    {
     "name": "stdout",
     "output_type": "stream",
     "text": [
      "[[1.         0.37254688 0.10518088 0.41913548]\n",
      " [1.         0.87342802 0.36360532 0.774164  ]\n",
      " [1.         0.80459394 0.27849757 0.34844235]\n",
      " [1.         0.81084845 0.30702409 0.51588666]\n",
      " [1.         0.96509327 0.04305801 0.21010921]\n",
      " [1.         0.54706281 0.89064658 0.75647955]\n",
      " [1.         0.24181599 0.17270884 0.19066395]\n",
      " [1.         0.40206489 0.23073873 0.21692932]\n",
      " [1.         0.79173805 0.0515791  0.25101049]\n",
      " [1.         0.54902013 0.69023937 0.9081091 ]\n",
      " [1.         0.80511501 0.43915097 0.18866016]\n",
      " [1.         0.29618197 0.37011467 0.89137945]\n",
      " [1.         0.28455421 0.12308594 0.77627387]\n",
      " [1.         0.45355846 0.44378246 0.39099901]\n",
      " [1.         0.21555325 0.56460776 0.3862849 ]]\n"
     ]
    }
   ],
   "source": [
    "X = np.column_stack((np.ones(15),x1,x2,x3))\n",
    "print(X)"
   ]
  },
  {
   "cell_type": "code",
   "execution_count": 55,
   "id": "569cefc5",
   "metadata": {},
   "outputs": [
    {
     "data": {
      "text/plain": [
       "array([[3, 0, 0],\n",
       "       [0, 5, 0],\n",
       "       [0, 0, 1]])"
      ]
     },
     "execution_count": 55,
     "metadata": {},
     "output_type": "execute_result"
    }
   ],
   "source": [
    "coef= np.array([[3,0,0],\n",
    "       [0,5,0],\n",
    "       [0,0,1]])\n",
    "coef"
   ]
  },
  {
   "cell_type": "code",
   "execution_count": 58,
   "id": "dc679bc0",
   "metadata": {},
   "outputs": [
    {
     "data": {
      "text/plain": [
       "array([[ 3.        , -2.5       , -0.5       ],\n",
       "       [-2.5       ,  8.33333333, -0.83333333],\n",
       "       [-0.5       , -0.83333333,  0.33333333]])"
      ]
     },
     "execution_count": 58,
     "metadata": {},
     "output_type": "execute_result"
    }
   ],
   "source": [
    "np.cov(coef) #matriz de covarianzas"
   ]
  },
  {
   "cell_type": "code",
   "execution_count": 89,
   "id": "c9b8d2f4",
   "metadata": {},
   "outputs": [],
   "source": [
    "from sklearn.model_selection import train_test_split \n",
    "X_train, X_test, Y_train, Y_test = train_test_split(X, Y, test_size=0.3, random_state=42)"
   ]
  },
  {
   "cell_type": "code",
   "execution_count": 90,
   "id": "ed0f0d76",
   "metadata": {},
   "outputs": [
    {
     "data": {
      "text/plain": [
       "1.0"
      ]
     },
     "execution_count": 90,
     "metadata": {},
     "output_type": "execute_result"
    }
   ],
   "source": [
    "from sklearn.linear_model import LinearRegression\n",
    "modelo = LinearRegression().fit(X_train,Y_train)\n",
    "Y_predict = modelo.predict(X_test) \n",
    "modelo.score(X_test,Y_predict)"
   ]
  },
  {
   "cell_type": "code",
   "execution_count": 91,
   "id": "c19b2e8d",
   "metadata": {},
   "outputs": [
    {
     "data": {
      "text/plain": [
       "array([0.        , 2.59145301, 2.149207  , 1.69987081])"
      ]
     },
     "execution_count": 91,
     "metadata": {},
     "output_type": "execute_result"
    }
   ],
   "source": [
    "modelo.coef_"
   ]
  },
  {
   "cell_type": "code",
   "execution_count": 93,
   "id": "e27610c9",
   "metadata": {},
   "outputs": [
    {
     "data": {
      "text/plain": [
       "13.109132201571361"
      ]
     },
     "execution_count": 93,
     "metadata": {},
     "output_type": "execute_result"
    }
   ],
   "source": [
    "modelo.intercept_"
   ]
  },
  {
   "cell_type": "code",
   "execution_count": 95,
   "id": "bf281f13",
   "metadata": {},
   "outputs": [
    {
     "name": "stdout",
     "output_type": "stream",
     "text": [
      "[17.55902752 16.1873568  15.0131016  15.90293581 17.72692114]\n"
     ]
    }
   ],
   "source": [
    "print (Y_predict)"
   ]
  },
  {
   "cell_type": "code",
   "execution_count": 101,
   "id": "f74657cf",
   "metadata": {},
   "outputs": [
    {
     "name": "stdout",
     "output_type": "stream",
     "text": [
      "15\n"
     ]
    }
   ],
   "source": [
    "n = len(Y)\n",
    "print (n)"
   ]
  },
  {
   "cell_type": "code",
   "execution_count": 118,
   "id": "bb2df9fa",
   "metadata": {},
   "outputs": [
    {
     "data": {
      "text/plain": [
       "5"
      ]
     },
     "execution_count": 118,
     "metadata": {},
     "output_type": "execute_result"
    }
   ],
   "source": [
    "k=5\n",
    "k"
   ]
  },
  {
   "cell_type": "code",
   "execution_count": 116,
   "id": "bd2031dd",
   "metadata": {},
   "outputs": [
    {
     "data": {
      "text/plain": [
       "1.0648750843754289"
      ]
     },
     "execution_count": 116,
     "metadata": {},
     "output_type": "execute_result"
    }
   ],
   "source": [
    "from sklearn.metrics import mean_squared_error\n",
    "y_true  = Y_test\n",
    "y_pred  = Y_predict\n",
    "mean_squared_error(y_true,y_pred)"
   ]
  },
  {
   "cell_type": "code",
   "execution_count": 119,
   "id": "3543799d",
   "metadata": {},
   "outputs": [
    {
     "data": {
      "text/plain": [
       "15.973126265631434"
      ]
     },
     "execution_count": 119,
     "metadata": {},
     "output_type": "execute_result"
    }
   ],
   "source": [
    "sumatoria = mean_squared_error(y_true,y_pred)*n\n",
    "sumatoria"
   ]
  },
  {
   "cell_type": "code",
   "execution_count": 122,
   "id": "38be5e91",
   "metadata": {},
   "outputs": [
    {
     "data": {
      "text/plain": [
       "10"
      ]
     },
     "execution_count": 122,
     "metadata": {},
     "output_type": "execute_result"
    }
   ],
   "source": [
    "a = n - k \n",
    "a"
   ]
  },
  {
   "cell_type": "code",
   "execution_count": 125,
   "id": "3861dfb0",
   "metadata": {},
   "outputs": [
    {
     "data": {
      "text/plain": [
       "1.5973126265631434"
      ]
     },
     "execution_count": 125,
     "metadata": {},
     "output_type": "execute_result"
    }
   ],
   "source": [
    "estimador = sumatoria/a\n",
    "estimador"
   ]
  },
  {
   "cell_type": "code",
   "execution_count": 148,
   "id": "a3a5e927",
   "metadata": {},
   "outputs": [
    {
     "name": "stdout",
     "output_type": "stream",
     "text": [
      "[[1. 0. 0. 0. 0. 0. 0. 0. 0. 0. 0. 0. 0. 0. 0.]\n",
      " [0. 1. 0. 0. 0. 0. 0. 0. 0. 0. 0. 0. 0. 0. 0.]\n",
      " [0. 0. 1. 0. 0. 0. 0. 0. 0. 0. 0. 0. 0. 0. 0.]\n",
      " [0. 0. 0. 1. 0. 0. 0. 0. 0. 0. 0. 0. 0. 0. 0.]\n",
      " [0. 0. 0. 0. 1. 0. 0. 0. 0. 0. 0. 0. 0. 0. 0.]\n",
      " [0. 0. 0. 0. 0. 1. 0. 0. 0. 0. 0. 0. 0. 0. 0.]\n",
      " [0. 0. 0. 0. 0. 0. 1. 0. 0. 0. 0. 0. 0. 0. 0.]\n",
      " [0. 0. 0. 0. 0. 0. 0. 1. 0. 0. 0. 0. 0. 0. 0.]\n",
      " [0. 0. 0. 0. 0. 0. 0. 0. 1. 0. 0. 0. 0. 0. 0.]\n",
      " [0. 0. 0. 0. 0. 0. 0. 0. 0. 1. 0. 0. 0. 0. 0.]\n",
      " [0. 0. 0. 0. 0. 0. 0. 0. 0. 0. 1. 0. 0. 0. 0.]\n",
      " [0. 0. 0. 0. 0. 0. 0. 0. 0. 0. 0. 1. 0. 0. 0.]\n",
      " [0. 0. 0. 0. 0. 0. 0. 0. 0. 0. 0. 0. 1. 0. 0.]\n",
      " [0. 0. 0. 0. 0. 0. 0. 0. 0. 0. 0. 0. 0. 1. 0.]\n",
      " [0. 0. 0. 0. 0. 0. 0. 0. 0. 0. 0. 0. 0. 0. 1.]]\n"
     ]
    }
   ],
   "source": [
    "I = np.eye(15)\n",
    "print(I)"
   ]
  },
  {
   "cell_type": "code",
   "execution_count": 146,
   "id": "c4fae061",
   "metadata": {},
   "outputs": [
    {
     "data": {
      "text/plain": [
       "array([[ 0.18761507, -0.00084016,  0.02395567,  0.02075663,  0.06072518,\n",
       "        -0.10657388,  0.18391847,  0.12788883,  0.10018881, -0.0309171 ,\n",
       "        -0.03901995,  0.13716274,  0.21916504,  0.05109766,  0.06487697],\n",
       "       [-0.00084016,  0.3110993 ,  0.1154724 ,  0.18487359,  0.15449887,\n",
       "         0.09790063, -0.15940512, -0.09308962,  0.10185666,  0.19200267,\n",
       "         0.02464473,  0.13091862,  0.11320005, -0.0296232 , -0.14350943],\n",
       "       [ 0.02395567,  0.1154724 ,  0.13804475,  0.12403119,  0.18757953,\n",
       "         0.04364015,  0.01450234,  0.05177207,  0.14151737,  0.02742842,\n",
       "         0.1551737 , -0.03636171, -0.03114722,  0.05030013, -0.00590881],\n",
       "       [ 0.02075663,  0.18487359,  0.12403119,  0.14241138,  0.16786394,\n",
       "         0.06019279, -0.04490871, -0.00049413,  0.12318229,  0.08917053,\n",
       "         0.09720741,  0.03530754,  0.03405933,  0.0203992 , -0.05405298],\n",
       "       [ 0.06072518,  0.15449887,  0.18757953,  0.16786394,  0.32289902,\n",
       "        -0.10711199,  0.01285408,  0.05694475,  0.25049435, -0.06724407,\n",
       "         0.15977027, -0.07921974, -0.00902831,  0.0057901 , -0.11681598],\n",
       "       [-0.10657388,  0.09790063,  0.04364015,  0.06019279, -0.10711199,\n",
       "         0.44479484, -0.0627932 , -0.01261123, -0.11323333,  0.30179618,\n",
       "         0.15926126,  0.06269604, -0.10772591,  0.1353609 ,  0.20440674],\n",
       "       [ 0.18391847, -0.15940512,  0.01450234, -0.04490871,  0.01285408,\n",
       "        -0.0627932 ,  0.30652815,  0.22713454,  0.07028802, -0.09632969,\n",
       "         0.0529617 ,  0.03982589,  0.10252023,  0.13164318,  0.22126012],\n",
       "       [ 0.12788883, -0.09308962,  0.05177207, -0.00049413,  0.05694475,\n",
       "        -0.01261123,  0.22713454,  0.18293233,  0.08383698, -0.05957111,\n",
       "         0.10056587,  0.00218212,  0.03929998,  0.11877736,  0.17443125],\n",
       "       [ 0.10018881,  0.10185666,  0.14151737,  0.12318229,  0.25049435,\n",
       "        -0.11323333,  0.07028802,  0.08383698,  0.2106687 , -0.06568848,\n",
       "         0.10642409, -0.02319325,  0.05317445,  0.02115763, -0.06067431],\n",
       "       [-0.0309171 ,  0.19200267,  0.02742842,  0.08917053, -0.06724407,\n",
       "         0.30179618, -0.09632969, -0.05957111, -0.06568848,  0.29668219,\n",
       "         0.0194599 ,  0.18523961,  0.08116644,  0.05742779,  0.06937672],\n",
       "       [-0.03901995,  0.02464473,  0.1551737 ,  0.09720741,  0.15977027,\n",
       "         0.15926126,  0.0529617 ,  0.10056587,  0.10642409,  0.0194599 ,\n",
       "         0.28376765, -0.15337883, -0.20211577,  0.12062968,  0.11464828],\n",
       "       [ 0.13716274,  0.13091862, -0.03636171,  0.03530754, -0.07921974,\n",
       "         0.06269604,  0.03982589,  0.00218212, -0.02319325,  0.18523961,\n",
       "        -0.15337883,  0.31387596,  0.323354  ,  0.02061999,  0.04097102],\n",
       "       [ 0.21916504,  0.11320005, -0.03114722,  0.03405933, -0.00902831,\n",
       "        -0.10772591,  0.10252023,  0.03929998,  0.05317445,  0.08116644,\n",
       "        -0.20211577,  0.323354  ,  0.41002209, -0.00948695, -0.01645745],\n",
       "       [ 0.05109766, -0.0296232 ,  0.05030013,  0.0203992 ,  0.0057901 ,\n",
       "         0.1353609 ,  0.13164318,  0.11877736,  0.02115763,  0.05742779,\n",
       "         0.12062968,  0.02061999, -0.00948695,  0.12355862,  0.18234791],\n",
       "       [ 0.06487697, -0.14350943, -0.00590881, -0.05405298, -0.11681598,\n",
       "         0.20440674,  0.22126012,  0.17443125, -0.06067431,  0.06937672,\n",
       "         0.11464828,  0.04097102, -0.01645745,  0.18234791,  0.32509994]])"
      ]
     },
     "execution_count": 146,
     "metadata": {},
     "output_type": "execute_result"
    }
   ],
   "source": [
    "Xinversa = X @ (np.linalg.inv(X.T @ X) )@ X.T\n",
    "Xinversa"
   ]
  },
  {
   "cell_type": "code",
   "execution_count": 151,
   "id": "feb0800d",
   "metadata": {},
   "outputs": [
    {
     "data": {
      "text/plain": [
       "array([[ 8.12384927e-01,  8.40158665e-04, -2.39556745e-02,\n",
       "        -2.07566341e-02, -6.07251843e-02,  1.06573876e-01,\n",
       "        -1.83918470e-01, -1.27888828e-01, -1.00188809e-01,\n",
       "         3.09170966e-02,  3.90199539e-02, -1.37162742e-01,\n",
       "        -2.19165036e-01, -5.10976648e-02, -6.48769680e-02],\n",
       "       [ 8.40158665e-04,  6.88900702e-01, -1.15472400e-01,\n",
       "        -1.84873589e-01, -1.54498873e-01, -9.79006302e-02,\n",
       "         1.59405123e-01,  9.30896165e-02, -1.01856662e-01,\n",
       "        -1.92002674e-01, -2.46447276e-02, -1.30918617e-01,\n",
       "        -1.13200050e-01,  2.96231977e-02,  1.43509427e-01],\n",
       "       [-2.39556745e-02, -1.15472400e-01,  8.61955248e-01,\n",
       "        -1.24031193e-01, -1.87579534e-01, -4.36401546e-02,\n",
       "        -1.45023434e-02, -5.17720700e-02, -1.41517373e-01,\n",
       "        -2.74284208e-02, -1.55173695e-01,  3.63617139e-02,\n",
       "         3.11472197e-02, -5.03001330e-02,  5.90881083e-03],\n",
       "       [-2.07566341e-02, -1.84873589e-01, -1.24031193e-01,\n",
       "         8.57588615e-01, -1.67863939e-01, -6.01927917e-02,\n",
       "         4.49087097e-02,  4.94133283e-04, -1.23182287e-01,\n",
       "        -8.91705344e-02, -9.72074119e-02, -3.53075352e-02,\n",
       "        -3.40593272e-02, -2.03991967e-02,  5.40529819e-02],\n",
       "       [-6.07251843e-02, -1.54498873e-01, -1.87579534e-01,\n",
       "        -1.67863939e-01,  6.77100978e-01,  1.07111995e-01,\n",
       "        -1.28540755e-02, -5.69447517e-02, -2.50494348e-01,\n",
       "         6.72440740e-02, -1.59770267e-01,  7.92197361e-02,\n",
       "         9.02831304e-03, -5.79010487e-03,  1.16815983e-01],\n",
       "       [ 1.06573876e-01, -9.79006302e-02, -4.36401546e-02,\n",
       "        -6.01927917e-02,  1.07111995e-01,  5.55205161e-01,\n",
       "         6.27931995e-02,  1.26112325e-02,  1.13233325e-01,\n",
       "        -3.01796176e-01, -1.59261258e-01, -6.26960406e-02,\n",
       "         1.07725910e-01, -1.35360904e-01, -2.04406743e-01],\n",
       "       [-1.83918470e-01,  1.59405123e-01, -1.45023434e-02,\n",
       "         4.49087097e-02, -1.28540755e-02,  6.27931995e-02,\n",
       "         6.93471848e-01, -2.27134538e-01, -7.02880183e-02,\n",
       "         9.63296943e-02, -5.29617029e-02, -3.98258938e-02,\n",
       "        -1.02520231e-01, -1.31643179e-01, -2.21260123e-01],\n",
       "       [-1.27888828e-01,  9.30896165e-02, -5.17720700e-02,\n",
       "         4.94133283e-04, -5.69447517e-02,  1.26112325e-02,\n",
       "        -2.27134538e-01,  8.17067672e-01, -8.38369850e-02,\n",
       "         5.95711080e-02, -1.00565875e-01, -2.18212496e-03,\n",
       "        -3.92999812e-02, -1.18777356e-01, -1.74431252e-01],\n",
       "       [-1.00188809e-01, -1.01856662e-01, -1.41517373e-01,\n",
       "        -1.23182287e-01, -2.50494348e-01,  1.13233325e-01,\n",
       "        -7.02880183e-02, -8.38369850e-02,  7.89331299e-01,\n",
       "         6.56884799e-02, -1.06424091e-01,  2.31932480e-02,\n",
       "        -5.31744534e-02, -2.11576312e-02,  6.06743073e-02],\n",
       "       [ 3.09170966e-02, -1.92002674e-01, -2.74284208e-02,\n",
       "        -8.91705344e-02,  6.72440740e-02, -3.01796176e-01,\n",
       "         9.63296943e-02,  5.95711080e-02,  6.56884799e-02,\n",
       "         7.03317809e-01, -1.94598980e-02, -1.85239607e-01,\n",
       "        -8.11664427e-02, -5.74277873e-02, -6.93767211e-02],\n",
       "       [ 3.90199539e-02, -2.46447276e-02, -1.55173695e-01,\n",
       "        -9.72074119e-02, -1.59770267e-01, -1.59261258e-01,\n",
       "        -5.29617029e-02, -1.00565875e-01, -1.06424091e-01,\n",
       "        -1.94598980e-02,  7.16232348e-01,  1.53378825e-01,\n",
       "         2.02115768e-01, -1.20629684e-01, -1.14648283e-01],\n",
       "       [-1.37162742e-01, -1.30918617e-01,  3.63617139e-02,\n",
       "        -3.53075352e-02,  7.92197361e-02, -6.26960406e-02,\n",
       "        -3.98258938e-02, -2.18212496e-03,  2.31932480e-02,\n",
       "        -1.85239607e-01,  1.53378825e-01,  6.86124041e-01,\n",
       "        -3.23353999e-01, -2.06199879e-02, -4.09710164e-02],\n",
       "       [-2.19165036e-01, -1.13200050e-01,  3.11472197e-02,\n",
       "        -3.40593272e-02,  9.02831304e-03,  1.07725910e-01,\n",
       "        -1.02520231e-01, -3.92999812e-02, -5.31744534e-02,\n",
       "        -8.11664427e-02,  2.02115768e-01, -3.23353999e-01,\n",
       "         5.89977910e-01,  9.48695437e-03,  1.64574464e-02],\n",
       "       [-5.10976648e-02,  2.96231977e-02, -5.03001330e-02,\n",
       "        -2.03991967e-02, -5.79010487e-03, -1.35360904e-01,\n",
       "        -1.31643179e-01, -1.18777356e-01, -2.11576312e-02,\n",
       "        -5.74277873e-02, -1.20629684e-01, -2.06199879e-02,\n",
       "         9.48695437e-03,  8.76441384e-01, -1.82347907e-01],\n",
       "       [-6.48769680e-02,  1.43509427e-01,  5.90881083e-03,\n",
       "         5.40529819e-02,  1.16815983e-01, -2.04406743e-01,\n",
       "        -2.21260123e-01, -1.74431252e-01,  6.06743073e-02,\n",
       "        -6.93767211e-02, -1.14648283e-01, -4.09710164e-02,\n",
       "         1.64574464e-02, -1.82347907e-01,  6.74900057e-01]])"
      ]
     },
     "execution_count": 151,
     "metadata": {},
     "output_type": "execute_result"
    }
   ],
   "source": [
    "Matriz = I - Xinversa\n",
    "Matriz"
   ]
  }
 ],
 "metadata": {
  "kernelspec": {
   "display_name": "Python 3 (ipykernel)",
   "language": "python",
   "name": "python3"
  },
  "language_info": {
   "codemirror_mode": {
    "name": "ipython",
    "version": 3
   },
   "file_extension": ".py",
   "mimetype": "text/x-python",
   "name": "python",
   "nbconvert_exporter": "python",
   "pygments_lexer": "ipython3",
   "version": "3.9.7"
  }
 },
 "nbformat": 4,
 "nbformat_minor": 5
}
